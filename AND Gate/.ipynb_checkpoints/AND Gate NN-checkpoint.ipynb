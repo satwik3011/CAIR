{
 "cells": [
  {
   "cell_type": "code",
   "execution_count": 15,
   "metadata": {},
   "outputs": [],
   "source": [
    "import numpy as np\n",
    "import pandas as pd\n",
    "import ttg\n",
    "from sklearn.model_selection import train_test_split\n",
    "from keras.models import Sequential\n",
    "from keras.layers import Dense\n",
    "import tensorflow as tf\n",
    "import seaborn as sns\n",
    "import matplotlib.pyplot as plt"
   ]
  },
  {
   "cell_type": "code",
   "execution_count": 16,
   "metadata": {},
   "outputs": [],
   "source": [
    "def AND_Dataset(n):\n",
    "    string = []\n",
    "    for i in range(n):\n",
    "        string.append(str(i))\n",
    "    result = []\n",
    "    s = ''\n",
    "    for i in range(len(string)-1):\n",
    "        s += string[i] + ' and '\n",
    "    s += string[len(string)-1]\n",
    "    result.append(s)\n",
    "    table = ttg.Truths(string, result)\n",
    "    data = table.as_pandas()\n",
    "    data.rename(columns={s:'output'}, inplace = True)\n",
    "    return data;"
   ]
  },
  {
   "cell_type": "code",
   "execution_count": 17,
   "metadata": {},
   "outputs": [],
   "source": [
    "df = AND_Dataset(10)\n",
    "df.to_csv(\"data_10inputAND.csv\", index = False)\n",
    "df = np.asarray(df).astype(np.float32)"
   ]
  },
  {
   "cell_type": "code",
   "execution_count": 18,
   "metadata": {},
   "outputs": [],
   "source": [
    "train_df = df[0:716]\n",
    "val_df = df[716:870]\n",
    "test_df = df[870:1024]\n",
    "\n",
    "X_train = train_df[:, 0:10]\n",
    "y_train = train_df[:, 10]\n",
    "X_val = val_df[:, 0:10]\n",
    "y_val = val_df[:, 10]\n",
    "X_test = test_df[:, 0:10]\n",
    "y_test = test_df[:, 10]"
   ]
  },
  {
   "cell_type": "code",
   "execution_count": 19,
   "metadata": {},
   "outputs": [],
   "source": [
    "model = Sequential()\n",
    "\n",
    "model.add(Dense(100, input_shape=(10,), activation = 'tanh'))\n",
    "model.add(Dense(2, activation='sigmoid'))\n",
    "\n",
    "model.compile(optimizer = 'adam', loss = 'sparse_categorical_crossentropy', metrics = ['accuracy'])"
   ]
  },
  {
   "cell_type": "code",
   "execution_count": 20,
   "metadata": {
    "scrolled": true
   },
   "outputs": [
    {
     "name": "stdout",
     "output_type": "stream",
     "text": [
      "Epoch 1/29\n",
      "23/23 [==============================] - 2s 7ms/step - loss: 0.8548 - accuracy: 0.3746 - val_loss: 0.2354 - val_accuracy: 1.0000\n",
      "Epoch 2/29\n",
      "23/23 [==============================] - 0s 2ms/step - loss: 0.1404 - accuracy: 0.9951 - val_loss: 0.0920 - val_accuracy: 1.0000\n",
      "Epoch 3/29\n",
      "23/23 [==============================] - 0s 2ms/step - loss: 0.0677 - accuracy: 0.9951 - val_loss: 0.0566 - val_accuracy: 1.0000\n",
      "Epoch 4/29\n",
      "23/23 [==============================] - 0s 2ms/step - loss: 0.0540 - accuracy: 0.9951 - val_loss: 0.0412 - val_accuracy: 1.0000\n",
      "Epoch 5/29\n",
      "23/23 [==============================] - 0s 2ms/step - loss: 0.0492 - accuracy: 0.9951 - val_loss: 0.0323 - val_accuracy: 1.0000\n",
      "Epoch 6/29\n",
      "23/23 [==============================] - 0s 2ms/step - loss: 0.0472 - accuracy: 0.9951 - val_loss: 0.0264 - val_accuracy: 1.0000\n",
      "Epoch 7/29\n",
      "23/23 [==============================] - 0s 2ms/step - loss: 0.0464 - accuracy: 0.9951 - val_loss: 0.0223 - val_accuracy: 1.0000\n",
      "Epoch 8/29\n",
      "23/23 [==============================] - 0s 2ms/step - loss: 0.0461 - accuracy: 0.9951 - val_loss: 0.0192 - val_accuracy: 1.0000\n",
      "Epoch 9/29\n",
      "23/23 [==============================] - 0s 2ms/step - loss: 0.0462 - accuracy: 0.9951 - val_loss: 0.0169 - val_accuracy: 1.0000\n",
      "Epoch 10/29\n",
      "23/23 [==============================] - 0s 2ms/step - loss: 0.0464 - accuracy: 0.9951 - val_loss: 0.0151 - val_accuracy: 1.0000\n",
      "Epoch 11/29\n",
      "23/23 [==============================] - 0s 2ms/step - loss: 0.0466 - accuracy: 0.9951 - val_loss: 0.0136 - val_accuracy: 1.0000\n",
      "Epoch 12/29\n",
      "23/23 [==============================] - 0s 2ms/step - loss: 0.0470 - accuracy: 0.9951 - val_loss: 0.0124 - val_accuracy: 1.0000\n",
      "Epoch 13/29\n",
      "23/23 [==============================] - 0s 2ms/step - loss: 0.0473 - accuracy: 0.9951 - val_loss: 0.0115 - val_accuracy: 1.0000\n",
      "Epoch 14/29\n",
      "23/23 [==============================] - 0s 2ms/step - loss: 0.0476 - accuracy: 0.9951 - val_loss: 0.0107 - val_accuracy: 1.0000\n",
      "Epoch 15/29\n",
      "23/23 [==============================] - 0s 2ms/step - loss: 0.0479 - accuracy: 0.9951 - val_loss: 0.0100 - val_accuracy: 1.0000\n",
      "Epoch 16/29\n",
      "23/23 [==============================] - 0s 3ms/step - loss: 0.0482 - accuracy: 0.9951 - val_loss: 0.0094 - val_accuracy: 1.0000\n",
      "Epoch 17/29\n",
      "23/23 [==============================] - 0s 2ms/step - loss: 0.0484 - accuracy: 0.9951 - val_loss: 0.0089 - val_accuracy: 1.0000\n",
      "Epoch 18/29\n",
      "23/23 [==============================] - 0s 2ms/step - loss: 0.0487 - accuracy: 0.9951 - val_loss: 0.0085 - val_accuracy: 1.0000\n",
      "Epoch 19/29\n",
      "23/23 [==============================] - 0s 2ms/step - loss: 0.0488 - accuracy: 0.9951 - val_loss: 0.0082 - val_accuracy: 1.0000\n",
      "Epoch 20/29\n",
      "23/23 [==============================] - 0s 2ms/step - loss: 0.0490 - accuracy: 0.9951 - val_loss: 0.0078 - val_accuracy: 1.0000\n",
      "Epoch 21/29\n",
      "23/23 [==============================] - 0s 2ms/step - loss: 0.0491 - accuracy: 0.9951 - val_loss: 0.0076 - val_accuracy: 1.0000\n",
      "Epoch 22/29\n",
      "23/23 [==============================] - 0s 2ms/step - loss: 0.0492 - accuracy: 0.9951 - val_loss: 0.0073 - val_accuracy: 1.0000\n",
      "Epoch 23/29\n",
      "23/23 [==============================] - 0s 2ms/step - loss: 0.0493 - accuracy: 0.9951 - val_loss: 0.0071 - val_accuracy: 1.0000\n",
      "Epoch 24/29\n",
      "23/23 [==============================] - 0s 2ms/step - loss: 0.0494 - accuracy: 0.9951 - val_loss: 0.0069 - val_accuracy: 1.0000\n",
      "Epoch 25/29\n",
      "23/23 [==============================] - 0s 2ms/step - loss: 0.0494 - accuracy: 0.9951 - val_loss: 0.0068 - val_accuracy: 1.0000\n",
      "Epoch 26/29\n",
      "23/23 [==============================] - 0s 2ms/step - loss: 0.0494 - accuracy: 0.9951 - val_loss: 0.0066 - val_accuracy: 1.0000\n",
      "Epoch 27/29\n",
      "23/23 [==============================] - 0s 2ms/step - loss: 0.0494 - accuracy: 0.9951 - val_loss: 0.0065 - val_accuracy: 1.0000\n",
      "Epoch 28/29\n",
      "23/23 [==============================] - 0s 2ms/step - loss: 0.0494 - accuracy: 0.9951 - val_loss: 0.0064 - val_accuracy: 1.0000\n",
      "Epoch 29/29\n",
      "23/23 [==============================] - 0s 2ms/step - loss: 0.0494 - accuracy: 0.9951 - val_loss: 0.0063 - val_accuracy: 1.0000\n"
     ]
    }
   ],
   "source": [
    "history = model.fit(X_train, y_train, validation_data=(X_val,y_val), epochs=29, shuffle=False, verbose=1)"
   ]
  },
  {
   "cell_type": "code",
   "execution_count": 21,
   "metadata": {},
   "outputs": [
    {
     "name": "stdout",
     "output_type": "stream",
     "text": [
      "dict_keys(['loss', 'accuracy', 'val_loss', 'val_accuracy'])\n"
     ]
    },
    {
     "data": {
      "image/png": "[encoded data removed]",
      "text/plain": [
       "<Figure size 432x288 with 1 Axes>"
      ]
     },
     "metadata": {
      "needs_background": "light"
     },
     "output_type": "display_data"
    }
   ],
   "source": [
    "print(history.history.keys())\n",
    "plt.plot(history.history['loss'])\n",
    "plt.plot(history.history['val_loss'])\n",
    "plt.title('model loss')\n",
    "plt.ylabel('loss')\n",
    "plt.xlabel('epoch')\n",
    "plt.legend(['train', 'validation'], loc='upper right')\n",
    "plt.show()"
   ]
  },
  {
   "cell_type": "code",
   "execution_count": 22,
   "metadata": {},
   "outputs": [],
   "source": [
    "y_pred = model.predict(X_test)"
   ]
  },
  {
   "cell_type": "code",
   "execution_count": 23,
   "metadata": {},
   "outputs": [],
   "source": [
    "y_predicted = [np.argmax(i) for i in y_pred]"
   ]
  },
  {
   "cell_type": "code",
   "execution_count": 24,
   "metadata": {},
   "outputs": [
    {
     "data": {
      "text/plain": [
       "<tf.Tensor: shape=(1, 1), dtype=int32, numpy=array([[154]])>"
      ]
     },
     "execution_count": 24,
     "metadata": {},
     "output_type": "execute_result"
    }
   ],
   "source": [
    "cm = tf.math.confusion_matrix(labels=y_test,predictions=y_predicted)\n",
    "cm"
   ]
  },
  {
   "cell_type": "code",
   "execution_count": 25,
   "metadata": {},
   "outputs": [
    {
     "data": {
      "text/plain": [
       "Text(69.0, 0.5, 'Truth')"
      ]
     },
     "execution_count": 25,
     "metadata": {},
     "output_type": "execute_result"
    },
    {
     "data": {
      "image/png": "[encoded data removed]",
      "text/plain": [
       "<Figure size 720x504 with 2 Axes>"
      ]
     },
     "metadata": {
      "needs_background": "light"
     },
     "output_type": "display_data"
    }
   ],
   "source": [
    "plt.figure(figsize = (10,7))\n",
    "sns.heatmap(cm, annot=True, fmt='d')\n",
    "plt.xlabel('Predicted')\n",
    "plt.ylabel('Truth')"
   ]
  },
  {
   "cell_type": "code",
   "execution_count": null,
   "metadata": {},
   "outputs": [],
   "source": []
  }
 ],
 "metadata": {
  "kernelspec": {
   "display_name": "Python 3",
   "language": "python",
   "name": "python3"
  },
  "language_info": {
   "codemirror_mode": {
    "name": "ipython",
    "version": 3
   },
   "file_extension": ".py",
   "mimetype": "text/x-python",
   "name": "python",
   "nbconvert_exporter": "python",
   "pygments_lexer": "ipython3",
   "version": "3.8.5"
  }
 },
 "nbformat": 4,
 "nbformat_minor": 5
}
