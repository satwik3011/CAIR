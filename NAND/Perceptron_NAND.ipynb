{
 "cells": [
  {
   "cell_type": "code",
   "execution_count": 1,
   "id": "0cteJWoHYGJ3",
   "metadata": {
    "colab": {
     "base_uri": "https://localhost:8080/"
    },
    "id": "0cteJWoHYGJ3",
    "outputId": "fae0dcd3-ca1d-4efd-9a8b-f7d2f9e922be"
   },
   "outputs": [
    {
     "name": "stdout",
     "output_type": "stream",
     "text": [
      "Requirement already satisfied: tqdm in c:\\users\\satwi\\anaconda3\\lib\\site-packages (4.59.0)\n"
     ]
    }
   ],
   "source": [
    "!pip install tqdm"
   ]
  },
  {
   "cell_type": "code",
   "execution_count": 2,
   "id": "90c058ed-c097-4f4f-85ad-69563e555068",
   "metadata": {
    "id": "90c058ed-c097-4f4f-85ad-69563e555068"
   },
   "outputs": [],
   "source": [
    "import numpy as np\n",
    "from matplotlib import pyplot as plt\n",
    "from matplotlib import cm\n",
    "from sklearn.metrics import accuracy_score\n",
    "from tqdm import tqdm"
   ]
  },
  {
   "cell_type": "code",
   "execution_count": 3,
   "id": "a126b9c3-9cd5-4efd-956a-123b779fcec5",
   "metadata": {
    "id": "a126b9c3-9cd5-4efd-956a-123b779fcec5"
   },
   "outputs": [],
   "source": [
    "class Perceptron:\n",
    "  \n",
    "    def __init__ (self):\n",
    "        self.w = None\n",
    "        self.b = None\n",
    "    \n",
    "    def model(self, x):\n",
    "        return 1 if (np.dot(self.w, x) >= self.b) else 0\n",
    "    \n",
    "    def predict(self, X):\n",
    "        Y = []\n",
    "        for x in X:\n",
    "            result = self.model(x)\n",
    "            Y.append(result)\n",
    "        return np.array(Y)\n",
    "    \n",
    "    def fit(self, X, Y, epochs = 1, lr = 1):\n",
    "    \n",
    "        self.w = np.ones(X.shape[1])\n",
    "        self.b = 0\n",
    "\n",
    "        accuracy = {}\n",
    "        max_accuracy = 0\n",
    "\n",
    "        wt_matrix = []\n",
    "\n",
    "        for i in range(epochs):\n",
    "            for x, y in zip(X, Y):\n",
    "                y_pred = self.model(x)\n",
    "                if y == 1 and y_pred == 0:\n",
    "                    self.w = self.w + lr * x\n",
    "                    self.b = self.b - lr * 1\n",
    "                elif y == 0 and y_pred == 1:\n",
    "                    self.w = self.w - lr * x\n",
    "                    self.b = self.b + lr * 1\n",
    "\n",
    "            wt_matrix.append(self.w)    \n",
    "            accuracy[i] = accuracy_score(self.predict(X), Y)\n",
    "            if (accuracy[i] > max_accuracy):\n",
    "                max_accuracy = accuracy[i]\n",
    "                j = i\n",
    "                chkptw = self.w\n",
    "                chkptb = self.b\n",
    "\n",
    "        self.w = chkptw\n",
    "        self.b = chkptb\n",
    "\n",
    "#         print(max_accuracy,j)\n",
    "#         print(accuracy.values())\n",
    "#         plt.plot(list(accuracy.values()))\n",
    "#         plt.xlabel(\"Epoch #\")\n",
    "#         plt.ylabel(\"Accuracy\")\n",
    "#         plt.ylim([0, 1])\n",
    "#         plt.show()\n",
    "\n",
    "        return j+1"
   ]
  },
  {
   "cell_type": "code",
   "execution_count": 4,
   "id": "2e3c2de4-942f-480a-ab56-bb18e21966bc",
   "metadata": {
    "id": "2e3c2de4-942f-480a-ab56-bb18e21966bc"
   },
   "outputs": [
    {
     "data": {
      "text/html": [
       "<div>\n",
       "<style scoped>\n",
       "    .dataframe tbody tr th:only-of-type {\n",
       "        vertical-align: middle;\n",
       "    }\n",
       "\n",
       "    .dataframe tbody tr th {\n",
       "        vertical-align: top;\n",
       "    }\n",
       "\n",
       "    .dataframe thead th {\n",
       "        text-align: right;\n",
       "    }\n",
       "</style>\n",
       "<table border=\"1\" class=\"dataframe\">\n",
       "  <thead>\n",
       "    <tr style=\"text-align: right;\">\n",
       "      <th></th>\n",
       "      <th>0</th>\n",
       "      <th>1</th>\n",
       "      <th>output</th>\n",
       "    </tr>\n",
       "  </thead>\n",
       "  <tbody>\n",
       "    <tr>\n",
       "      <th>1</th>\n",
       "      <td>1</td>\n",
       "      <td>1</td>\n",
       "      <td>0</td>\n",
       "    </tr>\n",
       "    <tr>\n",
       "      <th>2</th>\n",
       "      <td>1</td>\n",
       "      <td>0</td>\n",
       "      <td>1</td>\n",
       "    </tr>\n",
       "    <tr>\n",
       "      <th>3</th>\n",
       "      <td>0</td>\n",
       "      <td>1</td>\n",
       "      <td>1</td>\n",
       "    </tr>\n",
       "    <tr>\n",
       "      <th>4</th>\n",
       "      <td>0</td>\n",
       "      <td>0</td>\n",
       "      <td>1</td>\n",
       "    </tr>\n",
       "  </tbody>\n",
       "</table>\n",
       "</div>"
      ],
      "text/plain": [
       "   0  1 output\n",
       "1  1  1      0\n",
       "2  1  0      1\n",
       "3  0  1      1\n",
       "4  0  0      1"
      ]
     },
     "execution_count": 4,
     "metadata": {},
     "output_type": "execute_result"
    }
   ],
   "source": [
    "import ttg\n",
    "def AND_Dataset(n):\n",
    "    string = []\n",
    "    for i in range(n):\n",
    "        string.append(str(i))\n",
    "    result = []\n",
    "    s = ''\n",
    "    for i in range(len(string)-1):\n",
    "        s += string[i] + ' and '\n",
    "    s += string[len(string)-1]\n",
    "    result.append(s)\n",
    "    table = ttg.Truths(string, result)\n",
    "    data = table.as_pandas()\n",
    "    data.rename(columns={s:'output'}, inplace = True)\n",
    "    return data;\n",
    "\n",
    "def OR_Dataset(n):\n",
    "    string = []\n",
    "    for i in range(n):\n",
    "        string.append(str(i))\n",
    "    result = []\n",
    "    s = ''\n",
    "    for i in range(len(string)-1):\n",
    "        s += string[i] + ' or '\n",
    "    s += string[len(string)-1]\n",
    "    result.append(s)\n",
    "    table = ttg.Truths(string, result)\n",
    "    data = table.as_pandas()\n",
    "    data.rename(columns={s:'output'}, inplace = True)\n",
    "    return data;\n",
    "\n",
    "def NAND_Dataset(n):\n",
    "    string = []\n",
    "    for i in range(n):\n",
    "        string.append(str(i))\n",
    "    result = []\n",
    "    s = ''\n",
    "    for i in range(len(string)-1):\n",
    "        s += string[i] + ' nand '\n",
    "    s += string[len(string)-1]\n",
    "    result.append(s)\n",
    "    table = ttg.Truths(string, result)\n",
    "    data = table.as_pandas()\n",
    "    data.rename(columns={s:'output'}, inplace = True)\n",
    "    return data;\n",
    "\n",
    "df = NAND_Dataset(2)\n",
    "df"
   ]
  },
  {
   "cell_type": "code",
   "execution_count": 5,
   "id": "80df379b-bd49-4d40-89d5-25e823b90cef",
   "metadata": {
    "colab": {
     "base_uri": "https://localhost:8080/"
    },
    "id": "80df379b-bd49-4d40-89d5-25e823b90cef",
    "outputId": "cbf4c6b8-4df1-42ed-ab00-dbf21deeced8"
   },
   "outputs": [
    {
     "name": "stderr",
     "output_type": "stream",
     "text": [
      "Loading...: 100%|█████████████████████████| 24/24 [00:00<00:00, 891.36it/s]\n"
     ]
    }
   ],
   "source": [
    "from itertools import permutations\n",
    "l = np.array(list(permutations(range(1, 5))))\n",
    "hi = []\n",
    "for i in tqdm(range(l.shape[0]), desc=\"Loading...\", ascii=False, ncols=75):\n",
    "    hi.append(np.array(df.reindex(l[i])))"
   ]
  },
  {
   "cell_type": "code",
   "execution_count": 6,
   "id": "12dcb0a2-fd2f-4205-a93c-bfa4dd36fd4e",
   "metadata": {
    "colab": {
     "base_uri": "https://localhost:8080/"
    },
    "id": "12dcb0a2-fd2f-4205-a93c-bfa4dd36fd4e",
    "outputId": "c9e3503c-45a5-4024-e2ed-09d9f2245e07",
    "scrolled": true,
    "tags": []
   },
   "outputs": [
    {
     "name": "stderr",
     "output_type": "stream",
     "text": [
      "Loading...: 100%|██████████████████████████| 24/24 [00:08<00:00,  2.92it/s]\n"
     ]
    },
    {
     "data": {
      "text/plain": [
       "[108,\n",
       " 108,\n",
       " 108,\n",
       " 108,\n",
       " 106,\n",
       " 106,\n",
       " 108,\n",
       " 106,\n",
       " 107,\n",
       " 109,\n",
       " 108,\n",
       " 109,\n",
       " 108,\n",
       " 106,\n",
       " 107,\n",
       " 109,\n",
       " 108,\n",
       " 109,\n",
       " 108,\n",
       " 108,\n",
       " 108,\n",
       " 107,\n",
       " 108,\n",
       " 107]"
      ]
     },
     "execution_count": 6,
     "metadata": {},
     "output_type": "execute_result"
    }
   ],
   "source": [
    "output = []\n",
    "for i in tqdm(range(len(hi)), desc=\"Loading...\", ascii=False, ncols=75):\n",
    "    X = np.array(hi[i][:, 0:2], dtype='int32')\n",
    "    Y = np.array(hi[i][:, 2], dtype='int32')\n",
    "    perceptron = Perceptron()\n",
    "    no_of_epochs = perceptron.fit(X, Y, 1000, 0.01)\n",
    "    output.append(no_of_epochs)\n",
    "    \n",
    "output"
   ]
  },
  {
   "cell_type": "code",
   "execution_count": 7,
   "id": "4d2113c3-cb7d-4b3a-be94-27e8034110b9",
   "metadata": {
    "colab": {
     "base_uri": "https://localhost:8080/",
     "height": 282
    },
    "id": "4d2113c3-cb7d-4b3a-be94-27e8034110b9",
    "outputId": "366fdaf7-398d-4e28-8a0c-6ecc21c9e0c8"
   },
   "outputs": [
    {
     "data": {
      "image/png": "[encoded data removed]",
      "text/plain": [
       "<Figure size 432x288 with 1 Axes>"
      ]
     },
     "metadata": {
      "needs_background": "light"
     },
     "output_type": "display_data"
    }
   ],
   "source": [
    "plt.plot(output)\n",
    "plt.savefig(\"NAND.png\", transparent=True)"
   ]
  }
 ],
 "metadata": {
  "colab": {
   "name": "Perceptron Algorithm.ipynb",
   "provenance": []
  },
  "kernelspec": {
   "display_name": "Python 3",
   "language": "python",
   "name": "python3"
  },
  "language_info": {
   "codemirror_mode": {
    "name": "ipython",
    "version": 3
   },
   "file_extension": ".py",
   "mimetype": "text/x-python",
   "name": "python",
   "nbconvert_exporter": "python",
   "pygments_lexer": "ipython3",
   "version": "3.8.8"
  }
 },
 "nbformat": 4,
 "nbformat_minor": 5
}
