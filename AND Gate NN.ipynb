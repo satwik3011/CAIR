{
 "cells": [
  {
   "cell_type": "code",
   "execution_count": 1,
   "id": "4c059715-4f07-4fb8-9dc2-55073726dd74",
   "metadata": {},
   "outputs": [],
   "source": [
    "import numpy as np\n",
    "import pandas as pd\n",
    "import ttg\n",
    "from sklearn.model_selection import train_test_split\n",
    "from keras.models import Sequential\n",
    "from keras.layers import Dense"
   ]
  },
  {
   "cell_type": "code",
   "execution_count": 4,
   "id": "f4126674-35a1-4bd0-8e03-e96bc549eb95",
   "metadata": {},
   "outputs": [],
   "source": [
    "def AND_Dataset(n):\n",
    "    string = []\n",
    "    for i in range(n):\n",
    "        string.append(str(i))\n",
    "    result = []\n",
    "    s = ''\n",
    "    for i in range(len(string)-1):\n",
    "        s += string[i] + ' and '\n",
    "    s += string[len(string)-1]\n",
    "    result.append(s)\n",
    "    table = ttg.Truths(string, result)\n",
    "    data = table.as_pandas()\n",
    "    data.rename(columns={s:'output'}, inplace = True)\n",
    "    return data;"
   ]
  },
  {
   "cell_type": "code",
   "execution_count": 8,
   "id": "0df7d0e8-24b7-49ac-ae80-184b3e86fc5d",
   "metadata": {},
   "outputs": [],
   "source": [
    "df = AND_Dataset(10)\n",
    "df.to_csv(\"data_10inputAND.csv\", index = False)"
   ]
  },
  {
   "cell_type": "code",
   "execution_count": null,
   "id": "afcf4376-5df9-48f4-998b-f7306094777e",
   "metadata": {},
   "outputs": [],
   "source": []
  }
 ],
 "metadata": {
  "kernelspec": {
   "display_name": "Python 3",
   "language": "python",
   "name": "python3"
  },
  "language_info": {
   "codemirror_mode": {
    "name": "ipython",
    "version": 3
   },
   "file_extension": ".py",
   "mimetype": "text/x-python",
   "name": "python",
   "nbconvert_exporter": "python",
   "pygments_lexer": "ipython3",
   "version": "3.8.5"
  }
 },
 "nbformat": 4,
 "nbformat_minor": 5
}
